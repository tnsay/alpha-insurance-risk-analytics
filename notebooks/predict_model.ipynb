{
 "cells": [
  {
   "cell_type": "markdown",
   "id": "4be0fc38",
   "metadata": {},
   "source": [
    "Predictive Modeling for Risk-Based Pricing"
   ]
  },
  {
   "cell_type": "code",
   "execution_count": 14,
   "id": "70f9ecd8",
   "metadata": {},
   "outputs": [],
   "source": [
    "# --- 1. Setup & Imports ---\n",
    "import pandas as pd\n",
    "import numpy as np\n",
    "import seaborn as sns\n",
    "import matplotlib.pyplot as plt\n",
    "import warnings\n",
    "warnings.filterwarnings(\"ignore\")\n",
    "\n",
    "from sklearn.model_selection import train_test_split\n",
    "from sklearn.linear_model import LinearRegression\n",
    "from sklearn.ensemble import RandomForestRegressor\n",
    "from xgboost import XGBRegressor\n",
    "from sklearn.metrics import mean_squared_error, r2_score\n",
    "import shap\n",
    "import joblib"
   ]
  },
  {
   "cell_type": "code",
   "execution_count": 15,
   "id": "2be9a76e",
   "metadata": {},
   "outputs": [],
   "source": [
    "# --- 2. Load Prepared Data (from Task 3) ---\n",
    "policy_summary = pd.read_csv(\"../eda_outputs/policy_summary.csv\")\n",
    "#print(policy_summary.head)"
   ]
  },
  {
   "cell_type": "code",
   "execution_count": 16,
   "id": "bbdfe973",
   "metadata": {},
   "outputs": [
    {
     "name": "stdout",
     "output_type": "stream",
     "text": [
      "Index(['PolicyID', 'TotalPremium', 'TotalClaims', 'HasClaim', 'Province',\n",
      "       'PostalCode', 'Gender', 'ClaimFrequency', 'Margin', 'ClaimSeverity'],\n",
      "      dtype='object')\n"
     ]
    }
   ],
   "source": [
    "# --- 3. Filter for Policies with Claims for Claim Severity---\n",
    "model_data = policy_summary[policy_summary['HasClaim'] == True].copy()\n",
    "#print(model_data.head)\n",
    "\n",
    "print(model_data.columns)\n"
   ]
  },
  {
   "cell_type": "code",
   "execution_count": 17,
   "id": "1bbf41f0",
   "metadata": {},
   "outputs": [
    {
     "name": "stdout",
     "output_type": "stream",
     "text": [
      "Categorical columns to encode: ['Gender']\n",
      "Final dtypes:\n",
      " TotalPremium              float64\n",
      "TotalClaims               float64\n",
      "Gender                     object\n",
      "ClaimFrequency              int64\n",
      "Margin                    float64\n",
      "ClaimSeverity             float64\n",
      "Province_KwaZulu-Natal       bool\n",
      "Province_Limpopo             bool\n",
      "Province_Mpumalanga          bool\n",
      "Province_North West          bool\n",
      "Province_Western Cape        bool\n",
      "PostalCode_84                bool\n",
      "PostalCode_122               bool\n",
      "PostalCode_125               bool\n",
      "PostalCode_183               bool\n",
      "PostalCode_621               bool\n",
      "PostalCode_902               bool\n",
      "PostalCode_1021              bool\n",
      "PostalCode_1085              bool\n",
      "PostalCode_1401              bool\n",
      "PostalCode_1431              bool\n",
      "PostalCode_1475              bool\n",
      "PostalCode_1496              bool\n",
      "PostalCode_1541              bool\n",
      "PostalCode_1744              bool\n",
      "PostalCode_1748              bool\n",
      "PostalCode_1759              bool\n",
      "PostalCode_2000              bool\n",
      "PostalCode_2040              bool\n",
      "PostalCode_2062              bool\n",
      "PostalCode_2069              bool\n",
      "PostalCode_2091              bool\n",
      "PostalCode_2198              bool\n",
      "PostalCode_2530              bool\n",
      "PostalCode_2744              bool\n",
      "PostalCode_3250              bool\n",
      "PostalCode_3700              bool\n",
      "PostalCode_3973              bool\n",
      "PostalCode_4004              bool\n",
      "PostalCode_4056              bool\n",
      "PostalCode_4068              bool\n",
      "PostalCode_4087              bool\n",
      "PostalCode_4092              bool\n",
      "PostalCode_4093              bool\n",
      "PostalCode_4309              bool\n",
      "PostalCode_4360              bool\n",
      "PostalCode_7100              bool\n",
      "PostalCode_7405              bool\n",
      "PostalCode_7460              bool\n",
      "PostalCode_7530              bool\n",
      "PostalCode_7750              bool\n",
      "PostalCode_7780              bool\n",
      "PostalCode_7785              bool\n",
      "PostalCode_7800              bool\n",
      "PostalCode_8005              bool\n",
      "PostalCode_8020              bool\n",
      "dtype: object\n"
     ]
    }
   ],
   "source": [
    "# --- 4. Feature Engineering ---\n",
    "model_data = model_data.drop(columns=['PolicyID', 'HasClaim'], errors='ignore')\n",
    "\n",
    "# Encode known categorical columns\n",
    "model_data = pd.get_dummies(model_data, columns=['Province', 'PostalCode'], drop_first=True)\n",
    "\n",
    "# Step 1: Identify remaining object (categorical) columns like Gender\n",
    "categorical_cols = model_data.select_dtypes(include='object').columns.tolist()\n",
    "print(\"Categorical columns to encode:\", categorical_cols)\n",
    "\n",
    "# Step 2: Apply one-hot encoding to those\n",
    "if categorical_cols:\n",
    "    model_data_encoded = pd.get_dummies(model_data, columns=categorical_cols, drop_first=True)\n",
    "\n",
    "# Step 3: Reconfirm that everything is numeric\n",
    "print(\"Final dtypes:\\n\", model_data.dtypes)\n",
    "\n",
    "# --- Define features and target ---\n",
    "X = model_data_encoded.drop(columns=['ClaimSeverity'])\n",
    "y = model_data_encoded['ClaimSeverity']"
   ]
  },
  {
   "cell_type": "code",
   "execution_count": 18,
   "id": "00ad1bc5",
   "metadata": {},
   "outputs": [],
   "source": [
    "# --- 5. Train-Test Split ---\n",
    "X_train, X_test, y_train, y_test = train_test_split(X, y, test_size=0.2, random_state=42)\n"
   ]
  },
  {
   "cell_type": "code",
   "execution_count": 19,
   "id": "0c1738d1",
   "metadata": {},
   "outputs": [
    {
     "name": "stdout",
     "output_type": "stream",
     "text": [
      "Linear Regression Model - RMSE: 0.00, R2: 1.000\n",
      "Random Forest Model - RMSE: 12106.17, R2: 0.945\n",
      "XGBoost Model - RMSE: 14178.24, R2: 0.924\n"
     ]
    }
   ],
   "source": [
    "# --- 6. Model Training & Evaluation ---\n",
    "from math import sqrt\n",
    "def evaluate_model(name, model):\n",
    "    model.fit(X_train, y_train)\n",
    "    preds = model.predict(X_test)    \n",
    "    mse = mean_squared_error(y_test, preds)\n",
    "    rmse = sqrt(mse)\n",
    "    r2 = r2_score(y_test, preds)\n",
    "    print(f\"{name} Model - RMSE: {rmse:.2f}, R2: {r2:.3f}\")\n",
    "    return model\n",
    "\n",
    "\n",
    "linreg = evaluate_model(\"Linear Regression\", LinearRegression())\n",
    "rf = evaluate_model(\"Random Forest\", RandomForestRegressor(random_state=42))\n",
    "\n",
    "\n",
    "xgb = evaluate_model(\"XGBoost\", XGBRegressor(random_state=42, verbosity=0))"
   ]
  },
  {
   "cell_type": "code",
   "execution_count": 20,
   "id": "3cfac8ee",
   "metadata": {},
   "outputs": [
    {
     "name": "stdout",
     "output_type": "stream",
     "text": [
      "TotalPremium              float64\n",
      "TotalClaims               float64\n",
      "ClaimFrequency              int64\n",
      "Margin                    float64\n",
      "ClaimSeverity             float64\n",
      "Province_KwaZulu-Natal       bool\n",
      "Province_Limpopo             bool\n",
      "Province_Mpumalanga          bool\n",
      "Province_North West          bool\n",
      "Province_Western Cape        bool\n",
      "PostalCode_84                bool\n",
      "PostalCode_122               bool\n",
      "PostalCode_125               bool\n",
      "PostalCode_183               bool\n",
      "PostalCode_621               bool\n",
      "PostalCode_902               bool\n",
      "PostalCode_1021              bool\n",
      "PostalCode_1085              bool\n",
      "PostalCode_1401              bool\n",
      "PostalCode_1431              bool\n",
      "PostalCode_1475              bool\n",
      "PostalCode_1496              bool\n",
      "PostalCode_1541              bool\n",
      "PostalCode_1744              bool\n",
      "PostalCode_1748              bool\n",
      "PostalCode_1759              bool\n",
      "PostalCode_2000              bool\n",
      "PostalCode_2040              bool\n",
      "PostalCode_2062              bool\n",
      "PostalCode_2069              bool\n",
      "PostalCode_2091              bool\n",
      "PostalCode_2198              bool\n",
      "PostalCode_2530              bool\n",
      "PostalCode_2744              bool\n",
      "PostalCode_3250              bool\n",
      "PostalCode_3700              bool\n",
      "PostalCode_3973              bool\n",
      "PostalCode_4004              bool\n",
      "PostalCode_4056              bool\n",
      "PostalCode_4068              bool\n",
      "PostalCode_4087              bool\n",
      "PostalCode_4092              bool\n",
      "PostalCode_4093              bool\n",
      "PostalCode_4309              bool\n",
      "PostalCode_4360              bool\n",
      "PostalCode_7100              bool\n",
      "PostalCode_7405              bool\n",
      "PostalCode_7460              bool\n",
      "PostalCode_7530              bool\n",
      "PostalCode_7750              bool\n",
      "PostalCode_7780              bool\n",
      "PostalCode_7785              bool\n",
      "PostalCode_7800              bool\n",
      "PostalCode_8005              bool\n",
      "PostalCode_8020              bool\n",
      "Gender_Male                  bool\n",
      "dtype: object\n",
      "Categorical columns to encode: []\n",
      "TotalPremium              float64\n",
      "TotalClaims               float64\n",
      "ClaimFrequency              int64\n",
      "Margin                    float64\n",
      "ClaimSeverity             float64\n",
      "Province_KwaZulu-Natal       bool\n",
      "Province_Limpopo             bool\n",
      "Province_Mpumalanga          bool\n",
      "Province_North West          bool\n",
      "Province_Western Cape        bool\n",
      "PostalCode_84                bool\n",
      "PostalCode_122               bool\n",
      "PostalCode_125               bool\n",
      "PostalCode_183               bool\n",
      "PostalCode_621               bool\n",
      "PostalCode_902               bool\n",
      "PostalCode_1021              bool\n",
      "PostalCode_1085              bool\n",
      "PostalCode_1401              bool\n",
      "PostalCode_1431              bool\n",
      "PostalCode_1475              bool\n",
      "PostalCode_1496              bool\n",
      "PostalCode_1541              bool\n",
      "PostalCode_1744              bool\n",
      "PostalCode_1748              bool\n",
      "PostalCode_1759              bool\n",
      "PostalCode_2000              bool\n",
      "PostalCode_2040              bool\n",
      "PostalCode_2062              bool\n",
      "PostalCode_2069              bool\n",
      "PostalCode_2091              bool\n",
      "PostalCode_2198              bool\n",
      "PostalCode_2530              bool\n",
      "PostalCode_2744              bool\n",
      "PostalCode_3250              bool\n",
      "PostalCode_3700              bool\n",
      "PostalCode_3973              bool\n",
      "PostalCode_4004              bool\n",
      "PostalCode_4056              bool\n",
      "PostalCode_4068              bool\n",
      "PostalCode_4087              bool\n",
      "PostalCode_4092              bool\n",
      "PostalCode_4093              bool\n",
      "PostalCode_4309              bool\n",
      "PostalCode_4360              bool\n",
      "PostalCode_7100              bool\n",
      "PostalCode_7405              bool\n",
      "PostalCode_7460              bool\n",
      "PostalCode_7530              bool\n",
      "PostalCode_7750              bool\n",
      "PostalCode_7780              bool\n",
      "PostalCode_7785              bool\n",
      "PostalCode_7800              bool\n",
      "PostalCode_8005              bool\n",
      "PostalCode_8020              bool\n",
      "Gender_Male                  bool\n",
      "dtype: object\n",
      "Linear Regression Model - RMSE: 0.00, R2: 1.000\n",
      "Random Forest Model - RMSE: 12106.17, R2: 0.945\n",
      "XGBoost Model - RMSE: 14178.24, R2: 0.924\n"
     ]
    }
   ],
   "source": [
    "# Check all column types\n",
    "print(model_data_encoded.dtypes)\n",
    "\n",
    "# Identify all object (categorical) columns, including Gender\n",
    "categorical_cols = model_data_encoded.select_dtypes(include='object').columns.tolist()\n",
    "print(\"Categorical columns to encode:\", categorical_cols)\n",
    "\n",
    "# Apply one-hot encoding to all object columns\n",
    "if categorical_cols:\n",
    "    model_data_encoded = pd.get_dummies(model_data, columns=categorical_cols, drop_first=True)\n",
    "\n",
    "# Reconfirm that everything is numeric\n",
    "print(model_data_encoded.dtypes)\n",
    "\n",
    "# Proceed with modeling\n",
    "linreg = evaluate_model(\"Linear Regression\", LinearRegression())\n",
    "rf = evaluate_model(\"Random Forest\", RandomForestRegressor(random_state=42))\n",
    "xgb = evaluate_model(\"XGBoost\", XGBRegressor(random_state=42, verbosity=0))\n"
   ]
  },
  {
   "cell_type": "code",
   "execution_count": 21,
   "id": "6dadf73e",
   "metadata": {},
   "outputs": [],
   "source": [
    "categorical_cols = model_data_encoded.select_dtypes(include='object').columns.tolist()\n",
    "\n",
    "# Convert all categorical to numeric using category codes (ordinal encoding)\n",
    "for col in categorical_cols:\n",
    "    model_data_encoded[col] = model_data_encoded[col].astype('category').cat.codes\n",
    "\n",
    "# split:\n",
    "from sklearn.model_selection import train_test_split\n",
    "X = model_data_encoded.drop(columns=['ClaimSeverity'])\n",
    "y = model_data_encoded['ClaimSeverity']\n",
    "\n",
    "X_train, X_test, y_train, y_test = train_test_split(X, y, random_state=42)\n"
   ]
  },
  {
   "cell_type": "code",
   "execution_count": 22,
   "id": "2e3b37c2",
   "metadata": {},
   "outputs": [
    {
     "name": "stdout",
     "output_type": "stream",
     "text": [
      "\n",
      "SHAP Summary for XGBoost Model:\n"
     ]
    },
    {
     "data": {
      "image/png": "[encoded data removed]",
      "text/plain": [
       "<Figure size 800x550 with 2 Axes>"
      ]
     },
     "metadata": {},
     "output_type": "display_data"
    },
    {
     "data": {
      "text/plain": [
       "['xgb_claim_severity_model.pkl']"
      ]
     },
     "execution_count": 22,
     "metadata": {},
     "output_type": "execute_result"
    }
   ],
   "source": [
    "# --- 7. Model Interpretability (SHAP) ---\n",
    "print(\"\\nSHAP Summary for XGBoost Model:\")\n",
    "\n",
    "X_test = X_test.astype(np.float64)\n",
    "explainer = shap.Explainer(xgb, X_test)\n",
    "shap_values = explainer(X_test)\n",
    "\n",
    "# Plot top 10 most important features\n",
    "shap.summary_plot(shap_values, X_test, max_display=10)\n",
    "\n",
    "# Save trained Model---\n",
    "joblib.dump(xgb, \"xgb_claim_severity_model.pkl\")\n"
   ]
  }
 ],
 "metadata": {
  "kernelspec": {
   "display_name": "venv",
   "language": "python",
   "name": "python3"
  },
  "language_info": {
   "codemirror_mode": {
    "name": "ipython",
    "version": 3
   },
   "file_extension": ".py",
   "mimetype": "text/x-python",
   "name": "python",
   "nbconvert_exporter": "python",
   "pygments_lexer": "ipython3",
   "version": "3.13.3"
  }
 },
 "nbformat": 4,
 "nbformat_minor": 5
}
